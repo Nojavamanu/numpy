{
 "cells": [
  {
   "cell_type": "code",
   "execution_count": 2,
   "metadata": {},
   "outputs": [],
   "source": [
    "import numpy as np "
   ]
  },
  {
   "cell_type": "code",
   "execution_count": 42,
   "metadata": {},
   "outputs": [
    {
     "name": "stdout",
     "output_type": "stream",
     "text": [
      "[[ 0  1  2  3  4]\n",
      " [ 5  6  7  8  9]\n",
      " [10 11 12 13 14]\n",
      " [15 16 17 18 19]\n",
      " [20 21 22 23 24]]\n",
      "25\n",
      "[[[ 0  1  2  3  4  5]\n",
      "  [ 6  7  8  9 10 11]\n",
      "  [12 13 14 15 16 17]\n",
      "  [18 19 20 21 22 23]]]\n",
      "[ 0  1  2  3  4  5  6  7  8  9 10 11 12 13 14 15 16 17 18 19 20 21 22 23\n",
      " 24]\n",
      "[ 0  1  2  3  4  5  6  7  8  9 10 11 12 13 14 15 16 17 18 19 20 21 22 23\n",
      " 24]\n"
     ]
    }
   ],
   "source": [
    "array = np.arange(25)\n",
    "print(array.reshape(5, 5))\n",
    "print(len(array))\n",
    "print(array[:24].reshape(1,4,6))\n",
    "#print(array.reshape(2, 4))\n",
    "print(array.ravel())\n",
    "transposed = array.T\n",
    "print(transposed)"
   ]
  },
  {
   "cell_type": "code",
   "execution_count": 45,
   "metadata": {},
   "outputs": [
    {
     "name": "stdout",
     "output_type": "stream",
     "text": [
      "[[7 4]\n",
      " [1 4]]\n",
      "[[5 3]\n",
      " [4 3]]\n",
      "esta es la suma [[12  7]\n",
      " [ 5  7]]\n",
      "esta es la resta [[ 2  1]\n",
      " [-3  1]]\n",
      "esta es la multiplicacion [[35 12]\n",
      " [ 4 12]]\n",
      "esta es la division [[1.4        1.33333333]\n",
      " [0.25       1.33333333]]\n",
      "esta es la suma con el scalar [[13 10]\n",
      " [ 7 10]]\n",
      "esta es la resta con scalar [[ 1 -2]\n",
      " [-5 -2]]\n",
      "esta es la multiplicacion con scalar [[42 24]\n",
      " [ 6 24]]\n",
      "esta es la division con scalar [[1.16666667 0.66666667]\n",
      " [0.16666667 0.66666667]]\n",
      "[5 1 1 5 6 5 4 4 6 2 2 5 2 5 2 1 1 4 4 7 3 7 2 6 6]\n",
      "[ 5  6  7 12 18 23 27 31 37 39 41 46 48 53 55 56 57 61 65 72 75 82 84 90\n",
      " 96]\n",
      "[ 0.08520197  0.41884132  0.94129872  1.50242555  2.24513487  2.44848448\n",
      "  3.33897301  3.3992439   3.8231057   4.54957274  5.23193819  5.65223321\n",
      "  6.1893026   6.42591894  6.99339258  7.11188328  7.42059983  7.71981543\n",
      "  8.10740988  8.25138763  9.15075116  9.5288887  10.46662121 10.57652747\n",
      " 10.92143761]\n"
     ]
    }
   ],
   "source": [
    "\n",
    "\n",
    "\n",
    "array_2d = np.random.randint(low=1, high=8,size=4).reshape(2,2)\n",
    "array2d1= np.random.randint(low=3, high=6,size=4).reshape(2,2)\n",
    "print(array_2d)\n",
    "print(array2d1)\n",
    "suma=array_2d+array2d1\n",
    "resta=array_2d-array2d1\n",
    "multiplicacion=array_2d*array2d1\n",
    "division=array_2d/array2d1\n",
    "print(\"esta es la suma\",suma)\n",
    "print(\"esta es la resta\",resta)\n",
    "print(\"esta es la multiplicacion\",multiplicacion)\n",
    "print(\"esta es la division\",division)\n",
    "print(\"esta es la suma con el scalar\",array_2d+6)\n",
    "print(\"esta es la resta con scalar\",array_2d-6)\n",
    "print(\"esta es la multiplicacion con scalar\",array_2d*6)\n",
    "print(\"esta es la division con scalar\",array_2d/6)\n",
    "vector= np.random.randint(low=1, high=8,size=25)\n",
    "print(vector)\n",
    "print(np.cumsum(vector))\n",
    "vector_flotantes = np.random.random(size=25)\n",
    "print(np.cumsum(vector_flotantes))\n",
    "\n"
   ]
  },
  {
   "cell_type": "code",
   "execution_count": 6,
   "metadata": {},
   "outputs": [
    {
     "name": "stdout",
     "output_type": "stream",
     "text": [
      "mostrar vector [216 131 214]\n",
      "mostrar vector 2 [137 170  34]\n",
      "Producto punto: 59138\n",
      "mostrar vector [196 206 152]\n",
      "mostrar vector [ 37  72 246]\n",
      "Producto cruzado: [-31926  21974  18773]\n",
      "[ 5 10 15]\n",
      "[100 200 300]\n",
      "formula automatica 355.4574517435244\n",
      "formula a mano 355.4574517435244\n",
      "formula 18.708286933869708\n",
      "formula ya hecha 18.708286933869708\n"
     ]
    }
   ],
   "source": [
    "vector_a = np.random.randint(low=1, high=255,size=3)\n",
    "print(\"mostrar vector\",vector_a)\n",
    "vector_b = np.random.randint(low=1,high=255,size=3)\n",
    "print(\"mostrar vector 2\",vector_b)\n",
    "producto_punto = np.dot(vector_a, vector_b)\n",
    "\n",
    "print(\"Producto punto:\", producto_punto)\n",
    "\n",
    "vector_a_cruzado = np.random.randint(low=1,high=255,size=3)\n",
    "print(\"mostrar vector\",vector_a_cruzado)\n",
    "vector_b_cruzado = np.random.randint(low=1,high=255,size=3)\n",
    "print(\"mostrar vector\",vector_b_cruzado)\n",
    "\n",
    "\n",
    "# Calculamos el producto cruzado entre los dos vectores\n",
    "producto_cruzado = np.cross(vector_a, vector_b)\n",
    "\n",
    "print(\"Producto cruzado:\", producto_cruzado)\n",
    "array_euclidiano = np.arange(5,20,5)\n",
    "print(array_euclidiano)\n",
    "array_euclidiano_2 = np.arange(100,400,100)\n",
    "print(array_euclidiano_2)\n",
    "distancia = np.linalg.norm(array_euclidiano-array_euclidiano_2)\n",
    "print(\"formula automatica\",distancia)\n",
    "def distancia_euclidiana(v1, v2):\n",
    "    return np.sqrt(np.sum((v1 - v2) ** 2)) \n",
    "distancia_euclidiana_2 = distancia_euclidiana(array_euclidiano,array_euclidiano_2)\n",
    "print(\"formula a mano\",distancia_euclidiana_2)\n",
    "#calcular la distancia a un punto origen\n",
    "distancia_origen=np.sqrt(np.sum(array_euclidiano**2))\n",
    "print(\"formula\",distancia_origen)\n",
    "distancia_origen_l2 = np.linalg.norm(array_euclidiano)\n",
    "print(\"formula ya hecha\",distancia_origen_l2)\n",
    "distancia_origen_2 = np.sqrt(np.sum(array_euclidiano_2**2))\n",
    "print(\"con formula segundo array \",distancia_origen_2)\n",
    "distancia_origen_formula = np.linalg.norm(array_euclidiano_2)\n",
    "print(\"con formula ya hecha segundo array\",distancia_origen_formula)\n",
    "\n"
   ]
  }
 ],
 "metadata": {
  "kernelspec": {
   "display_name": "numpy",
   "language": "python",
   "name": "python3"
  },
  "language_info": {
   "codemirror_mode": {
    "name": "ipython",
    "version": 3
   },
   "file_extension": ".py",
   "mimetype": "text/x-python",
   "name": "python",
   "nbconvert_exporter": "python",
   "pygments_lexer": "ipython3",
   "version": "3.10.0"
  }
 },
 "nbformat": 4,
 "nbformat_minor": 2
}
