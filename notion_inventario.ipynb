{
 "cells": [
  {
   "cell_type": "code",
   "execution_count": 1,
   "metadata": {},
   "outputs": [],
   "source": [
    "import numpy as np"
   ]
  },
  {
   "cell_type": "code",
   "execution_count": 27,
   "metadata": {},
   "outputs": [
    {
     "name": "stdout",
     "output_type": "stream",
     "text": [
      "['Smartphone' 'Tablet' 'Laptop' 'Auriculares' 'Teclado']\n",
      "[['Smartphone' '50']\n",
      " ['Tablet' '30']\n",
      " ['Laptop' '15']\n",
      " ['Auriculares' '40']\n",
      " ['Teclado' '60']]\n",
      "[[5 3 2 6 4]\n",
      " [7 4 1 8 5]\n",
      " [6 2 3 5 4]]\n",
      "[[0. 0. 0. 0. 0.]\n",
      " [0. 0. 0. 0. 0.]\n",
      " [0. 0. 0. 0. 0.]\n",
      " [0. 0. 0. 0. 0.]\n",
      " [0. 0. 0. 0. 0.]]\n",
      "[[0. 0. 0.]\n",
      " [0. 0. 0.]\n",
      " [0. 0. 0.]]\n",
      "[[1. 1.]\n",
      " [1. 1.]]\n",
      "[ 50 100 150 200 250 300 350 400 450 500 550 600 650 700 750 800 850 900\n",
      " 950]\n",
      "[1 5 6 2 5]\n",
      "[[2.31297541e-312]\n",
      " [2.41907520e-312]\n",
      " [2.37663529e-312]\n",
      " [2.35541533e-312]\n",
      " [2.14321575e-312]]\n",
      "[   0.  250.  500.  750. 1000.]\n"
     ]
    }
   ],
   "source": [
    "nombre_productos = np.array([\"Smartphone\",\"Tablet\",\"Laptop\",\"Auriculares\",\"Teclado\"])\n",
    "print(nombre_productos)\n",
    "cantidad_stock = np.array([[\"Smartphone\",50],[\"Tablet\",30],[\"Laptop\",15],[\"Auriculares\",40],[\"Teclado\",60]])\n",
    "print(cantidad_stock)\n",
    "registro_ventas = np.array([[5, 3, 2, 6, 4],[7, 4, 1, 8, 5],[6, 2, 3, 5, 4]])\n",
    "print(registro_ventas)\n",
    "productos_no_vendidos = np.zeros((5,5))\n",
    "print(productos_no_vendidos)\n",
    "productos_en_promocion = np.ones((2,2))\n",
    "productos_no_en_promocion = np.zeros((3,3))\n",
    "print(productos_no_en_promocion)\n",
    "print(productos_en_promocion)\n",
    "precio_de_productos = np.arange(50,1000,50)\n",
    "print(precio_de_productos)\n",
    "cantidad_vendida = np.random.randint(low=1, high=10, size=5)\n",
    "print(cantidad_vendida)\n",
    "descuentos = np.empty((5,1))\n",
    "print(descuentos)\n",
    "cambio_ventas = np.linspace(0,1000,5)\n",
    "print(cambio_ventas)\n",
    "\n",
    "\n",
    "\n",
    "\n",
    "\n",
    "\n",
    "\n",
    "\n",
    "\n",
    "\n",
    "\n",
    "\n",
    "\n"
   ]
  },
  {
   "cell_type": "code",
   "execution_count": 17,
   "metadata": {},
   "outputs": [
    {
     "name": "stdout",
     "output_type": "stream",
     "text": [
      "[ 1  2  3  4  5  6  7  8  9 10]\n",
      "[[0 1 2]\n",
      " [3 4 5]\n",
      " [6 7 8]]\n",
      "2\n",
      "1\n",
      "(1, 10)\n",
      "0\n",
      "8\n",
      "5\n",
      "[0 1 2]\n",
      "1\n",
      "4\n",
      "7\n",
      "[1 4 7]\n"
     ]
    }
   ],
   "source": [
    "#indexacion y seleccion de arrays con numpy ejercicio 3\n",
    "array1d = np.arange(1,11)\n",
    "print(array1d)\n",
    "#array_tester = np.arange(1,9).reshape((3,3))\n",
    "#print(array_tester)\n",
    "#array_2d = array_base.reshape((3,3)) \n",
    "array2d = np.arange(9).reshape((3,3))\n",
    "print(array2d)\n",
    "print(array2d.ndim)\n",
    "extraccion1d = int(array1d[0]),int(array1d[9])\n",
    "print(array1d[0])\n",
    "print(extraccion1d)\n",
    "extraccion2d = array2d[0][0]\n",
    "print(extraccion2d) \n",
    "extraccion2d_final = array2d[2][2]\n",
    "print(extraccion2d_final)\n",
    "ubicando_array2d = array2d[1][2]\n",
    "print(ubicando_array2d)\n",
    "print(array2d[0])\n",
    "print(array2d[0][1])\n",
    "print(array2d[1][1])\n",
    "print(array2d[2][1])\n",
    "#forma correcta preguntar \n",
    "print(array2d[:,1])\n"
   ]
  },
  {
   "cell_type": "code",
   "execution_count": 19,
   "metadata": {},
   "outputs": [
    {
     "name": "stdout",
     "output_type": "stream",
     "text": [
      "[[0 1 2]\n",
      " [3 4 5]\n",
      " [6 7 8]]\n",
      "[0 1 2]\n",
      "1\n",
      "4\n",
      "7\n",
      "klk [3 4 5]\n",
      "[1 4 7]\n"
     ]
    }
   ],
   "source": [
    "# pruebas\n",
    "array2d = np.arange(9).reshape((3,3))\n",
    "print(array2d)\n",
    "print(array2d[0])\n",
    "print(array2d[0][1])\n",
    "print(array2d[1][1])\n",
    "print(array2d[2][1])\n",
    "print(array2d[0:2][1])\n",
    "#forma correcta preguntar \n",
    "print(array2d[:,1])"
   ]
  },
  {
   "cell_type": "code",
   "execution_count": 4,
   "metadata": {},
   "outputs": [
    {
     "name": "stdout",
     "output_type": "stream",
     "text": [
      "[115 130 117  69 170  17  88  10   1 199  63   3 175 186 186  20 145 184\n",
      " 141 190   7  97 141  63 192 109 154  15 108  62 111 155 126 190 164 197\n",
      "   8 191 198 183 219 243 102 123   2 201  62 175]\n",
      "[[[115 130 117]\n",
      "  [ 69 170  17]\n",
      "  [ 88  10   1]\n",
      "  [199  63   3]]\n",
      "\n",
      " [[175 186 186]\n",
      "  [ 20 145 184]\n",
      "  [141 190   7]\n",
      "  [ 97 141  63]]\n",
      "\n",
      " [[192 109 154]\n",
      "  [ 15 108  62]\n",
      "  [111 155 126]\n",
      "  [190 164 197]]\n",
      "\n",
      " [[  8 191 198]\n",
      "  [183 219 243]\n",
      "  [102 123   2]\n",
      "  [201  62 175]]]\n"
     ]
    }
   ],
   "source": [
    "arraytester = np.random.randint(low=1, high=255,size=48)\n",
    "print(arraytester)\n",
    "rgb = arraytester.reshape(4,4,3)\n",
    "print(rgb)\n",
    "print(\"primer pixel\",rgb[0,0, :])\n",
    "print(\"ultimo pixel\",rgb[-1,-1, :])\n",
    "print(\"segunda fila tercera columna\",rgb[0,1,2])\n",
    "print(\"primera fila\",rgb[0,:,:])\n",
    "print (\"canal azul\",rgb[2,2 ,:])\n",
    "print(\"recorte central\",rgb[1:3, 1:3, :])"
   ]
  },
  {
   "cell_type": "code",
   "execution_count": null,
   "metadata": {},
   "outputs": [],
   "source": [
    "Punto_1 = [2,3,5,7,11],[2,3,5,7,11]\n",
    "Punto_2 = [1,4,6,8,10],[1,4,6,8,10]\n",
    "array_1 = np.array(Punto_1)\n",
    "array_2 = np.array(Punto_2)\n",
    "print(np.linalg.norm(array_1-array_2))"
   ]
  },
  {
   "cell_type": "code",
   "execution_count": 8,
   "metadata": {},
   "outputs": [
    {
     "name": "stdout",
     "output_type": "stream",
     "text": [
      "la normalizacion l2  [np.float64(235.98516902551313), np.float64(231.7930111112067), np.float64(246.02032436365903), np.float64(243.73756378531397), np.float64(227.02643017939565), np.float64(247.06679258856298), np.float64(226.0862667213557), np.float64(242.81474419812318), np.float64(246.2782978664584), np.float64(244.45040396775784), np.float64(246.81166909204273), np.float64(250.0959815750745), np.float64(238.03991261971174), np.float64(226.03981950090122), np.float64(244.64055264816582), np.float64(244.44426767670376), np.float64(235.94490882407274), np.float64(247.0344105585293), np.float64(236.8818270783979), np.float64(256.18547968220213), np.float64(247.7216179504728), np.float64(254.58593833909995), np.float64(242.72412323458911), np.float64(249.4554068365727), np.float64(247.9576576756604), np.float64(223.5799633240868), np.float64(253.42454498331452), np.float64(233.13515393436487), np.float64(245.56261930513773), np.float64(249.85595850409493), np.float64(247.4510052515447), np.float64(240.72390824344805), np.float64(257.42571744097364), np.float64(255.28611399760857), np.float64(250.79473678687916), np.float64(245.87598500056893), np.float64(244.90202122481554), np.float64(245.29370150902776), np.float64(262.27275878367544), np.float64(257.62375666851847), np.float64(260.1826281672164), np.float64(261.5243774488336), np.float64(247.09512338368802), np.float64(248.32438462623844), np.float64(246.8359779286642), np.float64(237.91805311913595), np.float64(257.5189313429209), np.float64(239.8520377232597), np.float64(255.78311124857325)]\n",
      "la normalizacion por asignatura es : 235.98516902551313\n",
      "la normalizacion por asignatura es : 231.7930111112067\n",
      "la normalizacion por asignatura es : 246.02032436365903\n",
      "la normalizacion por asignatura es : 243.73756378531397\n",
      "la normalizacion por asignatura es : 227.02643017939565\n",
      "la normalizacion por asignatura es : 247.06679258856298\n",
      "la normalizacion por asignatura es : 226.0862667213557\n",
      "la normalizacion por asignatura es : 242.81474419812318\n",
      "la normalizacion por asignatura es : 246.2782978664584\n",
      "la normalizacion por asignatura es : 244.45040396775784\n",
      "la normalizacion por asignatura es : 246.81166909204273\n",
      "la normalizacion por asignatura es : 250.0959815750745\n",
      "la normalizacion por asignatura es : 238.03991261971174\n",
      "la normalizacion por asignatura es : 226.03981950090122\n",
      "la normalizacion por asignatura es : 244.64055264816582\n",
      "la normalizacion por asignatura es : 244.44426767670376\n",
      "la normalizacion por asignatura es : 235.94490882407274\n",
      "la normalizacion por asignatura es : 247.0344105585293\n",
      "la normalizacion por asignatura es : 236.8818270783979\n",
      "la normalizacion por asignatura es : 256.18547968220213\n",
      "la normalizacion por asignatura es : 247.7216179504728\n",
      "la normalizacion por asignatura es : 254.58593833909995\n",
      "la normalizacion por asignatura es : 242.72412323458911\n",
      "la normalizacion por asignatura es : 249.4554068365727\n",
      "la normalizacion por asignatura es : 247.9576576756604\n",
      "la normalizacion por asignatura es : 223.5799633240868\n",
      "la normalizacion por asignatura es : 253.42454498331452\n",
      "la normalizacion por asignatura es : 233.13515393436487\n",
      "la normalizacion por asignatura es : 245.56261930513773\n",
      "la normalizacion por asignatura es : 249.85595850409493\n",
      "la normalizacion por asignatura es : 247.4510052515447\n",
      "la normalizacion por asignatura es : 240.72390824344805\n",
      "la normalizacion por asignatura es : 257.42571744097364\n",
      "la normalizacion por asignatura es : 255.28611399760857\n",
      "la normalizacion por asignatura es : 250.79473678687916\n",
      "la normalizacion por asignatura es : 245.87598500056893\n",
      "la normalizacion por asignatura es : 244.90202122481554\n",
      "la normalizacion por asignatura es : 245.29370150902776\n",
      "la normalizacion por asignatura es : 262.27275878367544\n",
      "la normalizacion por asignatura es : 257.62375666851847\n",
      "la normalizacion por asignatura es : 260.1826281672164\n",
      "la normalizacion por asignatura es : 261.5243774488336\n",
      "la normalizacion por asignatura es : 247.09512338368802\n",
      "la normalizacion por asignatura es : 248.32438462623844\n",
      "la normalizacion por asignatura es : 246.8359779286642\n",
      "la normalizacion por asignatura es : 237.91805311913595\n",
      "la normalizacion por asignatura es : 257.5189313429209\n",
      "la normalizacion por asignatura es : 239.8520377232597\n",
      "la normalizacion por asignatura es : 255.78311124857325\n",
      "calificaciones por asignatura 560.869860127998\n",
      "calificaciones por asignatura 545.8003297910326\n",
      "calificaciones por asignatura 551.0580731647074\n",
      "calificaciones por asignatura 552.2463218528486\n",
      "calificaciones por asignatura 534.6690565200122\n",
      "calificaciones por asignatura 549.200327749356\n",
      "calificaciones por asignatura 534.8345538575458\n",
      "calificaciones por asignatura 529.1039595391438\n",
      "calificaciones por asignatura 528.8912931784754\n",
      "calificaciones por asignatura 549.8517982147553\n",
      "calificaciones por asignatura con  otro metodo 560.869860127998\n",
      "asignatura 0\n",
      "calificaciones por asignatura con  otro metodo 545.8003297910326\n",
      "asignatura 1\n",
      "calificaciones por asignatura con  otro metodo 551.0580731647074\n",
      "asignatura 2\n",
      "calificaciones por asignatura con  otro metodo 552.2463218528486\n",
      "asignatura 3\n",
      "calificaciones por asignatura con  otro metodo 534.6690565200122\n",
      "asignatura 4\n",
      "calificaciones por asignatura con  otro metodo 549.200327749356\n",
      "asignatura 5\n",
      "calificaciones por asignatura con  otro metodo 534.8345538575458\n",
      "asignatura 6\n",
      "calificaciones por asignatura con  otro metodo 529.1039595391438\n",
      "asignatura 7\n",
      "calificaciones por asignatura con  otro metodo 528.8912931784754\n",
      "asignatura 8\n",
      "calificaciones por asignatura con  otro metodo 549.8517982147553\n",
      "asignatura 9\n",
      "las calificaciones utilizando axis [[560.86986013 545.80032979 551.05807316 552.24632185 534.66905652\n",
      "  549.20032775 534.83455386 529.10395954 528.89129318 549.85179821]]\n",
      "la sumas de todas las asignaturas [3895 3788 3827 3828 3707 3807 3710 3659 3668 3805]\n",
      "la suma de todas las notas [737 720 766 756 705 774 709 763 773 762 774 780 743 710 769 765 742 774\n",
      " 739 803 776 798 763 782 779 702 796 734 769 786 778 754 806 803 788 771\n",
      " 765 771 823 808 817 823 772 781 776 745 808 753 803]\n"
     ]
    }
   ],
   "source": [
    "calificaciones = np.array([\n",
    "    [88, 78, 64, 92, 57, 70, 88, 68, 72, 60],\n",
    "    [60, 73, 85, 89, 73, 52, 71, 51, 73, 93],\n",
    "    [79, 87, 51, 70, 82, 61, 71, 93, 74, 98],\n",
    "    [76, 91, 77, 65, 64, 96, 93, 52, 86, 56],\n",
    "    [70, 58, 88, 67, 53, 74, 63, 99, 58, 75],\n",
    "    [82, 79, 91, 88, 66, 78, 79, 63, 59, 89],\n",
    "    [56, 66, 73, 77, 75, 80, 70, 64, 88, 60],\n",
    "    [80, 62, 79, 85, 92, 72, 80, 69, 78, 66],\n",
    "    [88, 90, 69, 77, 66, 72, 65, 73, 92, 81],\n",
    "    [60, 80, 69, 94, 81, 88, 93, 60, 58, 79],\n",
    "    [78, 72, 74, 81, 67, 93, 60, 72, 85, 92],\n",
    "    [86, 90, 70, 64, 93, 58, 61, 95, 79, 84],\n",
    "    [85, 77, 91, 85, 61, 63, 58, 68, 65, 90],\n",
    "    [71, 79, 69, 58, 75, 78, 62, 82, 77, 59],\n",
    "    [87, 76, 72, 68, 88, 65, 75, 90, 69, 79],\n",
    "    [78, 71, 94, 67, 72, 88, 58, 79, 91, 67],\n",
    "    [67, 64, 85, 81, 70, 84, 79, 73, 62, 77],\n",
    "    [90, 61, 60, 91, 72, 89, 77, 75, 76, 83],\n",
    "    [94, 83, 80, 59, 65, 75, 63, 92, 68, 60],\n",
    "    [80, 81, 68, 95, 72, 93, 89, 59, 81, 85],\n",
    "    [88, 63, 90, 77, 69, 72, 85, 78, 61, 93],\n",
    "    [91, 65, 79, 92, 63, 74, 87, 70, 92, 85],\n",
    "    [92, 80, 76, 72, 81, 87, 64, 74, 70, 67],\n",
    "    [72, 83, 91, 58, 67, 88, 81, 76, 74, 92],\n",
    "    [84, 91, 81, 77, 80, 63, 70, 79, 89, 65],\n",
    "    [66, 65, 77, 58, 79, 61, 86, 72, 64, 74],\n",
    "    [94, 74, 83, 89, 77, 68, 81, 92, 70, 68],\n",
    "    [73, 72, 82, 80, 79, 64, 69, 60, 76, 79],\n",
    "    [82, 79, 75, 89, 85, 81, 62, 64, 60, 92],\n",
    "    [87, 88, 80, 74, 85, 90, 75, 68, 68, 71],\n",
    "    [81, 79, 85, 76, 64, 85, 71, 77, 67, 93],\n",
    "    [82, 89, 77, 72, 66, 84, 92, 60, 67, 65],\n",
    "    [90, 63, 94, 67, 88, 93, 79, 64, 88, 80],\n",
    "    [81, 90, 72, 76, 74, 93, 88, 84, 80, 65],\n",
    "    [86, 75, 67, 81, 93, 79, 91, 64, 78, 74],\n",
    "    [69, 85, 90, 91, 60, 76, 84, 78, 74, 64],\n",
    "    [67, 91, 94, 78, 81, 73, 62, 67, 60, 92],\n",
    "    [85, 79, 73, 60, 85, 90, 82, 75, 74, 68],\n",
    "    [91, 83, 77, 92, 74, 68, 64, 92, 90, 92],\n",
    "    [65, 93, 88, 82, 92, 67, 79, 68, 81, 93],\n",
    "    [92, 79, 90, 92, 72, 80, 61, 75, 86, 90],\n",
    "    [80, 67, 76, 84, 92, 90, 79, 93, 74, 88],\n",
    "    [60, 79, 90, 93, 64, 61, 85, 76, 92, 72],\n",
    "    [88, 67, 72, 64, 80, 90, 79, 75, 85, 81],\n",
    "    [79, 92, 75, 72, 92, 81, 79, 70, 68, 68],\n",
    "    [65, 60, 79, 89, 79, 82, 86, 64, 60, 81],\n",
    "    [92, 81, 60, 79, 94, 78, 80, 91, 85, 68],\n",
    "    [79, 64, 81, 72, 68, 75, 80, 94, 79, 61],\n",
    "    [79, 94, 64, 89, 80, 85, 74, 82, 65, 91]\n",
    "])\n",
    "## axis 1 igual a columnas axix 0 igual a columas actua sobre las columas axix 1 actua sobre filas\n",
    "\n",
    "normalizacionl2 = [ np.linalg.norm(calificacion) for calificacion in calificaciones]\n",
    "print(\"la normalizacion l2 \", normalizacionl2)\n",
    "for x in range(len(normalizacionl2)):\n",
    "    print(\"la normalizacion por asignatura es :\",normalizacionl2[x])\n",
    "for x in range(10):\n",
    "    print(\"calificaciones por asignatura\",np.linalg.norm(calificaciones[:,x]))\n",
    "for x in range(len(calificaciones[0])):\n",
    "    print(\"calificaciones por asignatura con  otro metodo\",np.linalg.norm(calificaciones[:,x]))\n",
    "    print(\"asignatura\",x)\n",
    "print(\"las calificaciones utilizando axis\",np.linalg.norm(calificaciones, axis=0, keepdims=True ))\n",
    "print(\"la sumas de todas las calificaciones por  asignatura\",np.sum(calificaciones,axis=0))\n",
    "print(\"la suma de todas las notas\",np.sum(calificaciones,axis=1))\n",
    "\n",
    "\n",
    "    \n",
    "\n",
    "\n"
   ]
  },
  {
   "cell_type": "code",
   "execution_count": 14,
   "metadata": {},
   "outputs": [
    {
     "name": "stdout",
     "output_type": "stream",
     "text": [
      "[ 4 -3 -7]\n",
      "[ 24 -36  -5]\n",
      "-5\n"
     ]
    },
    {
     "name": "stderr",
     "output_type": "stream",
     "text": [
      "C:\\Users\\Manu\\AppData\\Local\\Temp\\ipykernel_19276\\374326904.py:9: DeprecationWarning: Arrays of 2-dimensional vectors are deprecated. Use arrays of 3-dimensional vectors instead. (deprecated in NumPy 2.0)\n",
      "  print(np.cross(extra_v1_2d,extra_v2_2d))\n"
     ]
    }
   ],
   "source": [
    "v1 = [3, 4, 0]\n",
    "v2 = [4, 3, 1]\n",
    "print(np.cross(v1,v2))\n",
    "extra_v1 = [3, 2, 0]\n",
    "extra_v2 = [4, 1, 12]\n",
    "print(np.cross(extra_v1,extra_v2))\n",
    "extra_v1_2d = [3, 2]\n",
    "extra_v2_2d = [4, 1]\n",
    "print(np.cross(extra_v1_2d,extra_v2_2d))"
   ]
  },
  {
   "cell_type": "code",
   "execution_count": 19,
   "metadata": {},
   "outputs": [
    {
     "name": "stdout",
     "output_type": "stream",
     "text": [
      "[ 11  22  50 110 250]\n",
      "44.5\n"
     ]
    }
   ],
   "source": [
    "tiempo_atleta = np.array([11, 22, 50, 110, 250])\n",
    "print(tiempo_atleta)\n",
    "importancia_pruebas = np.array([0.4, 0.3, 0.2, 0.1, 0.05])\n",
    "print(np.dot(tiempo_atleta,importancia_pruebas))"
   ]
  },
  {
   "cell_type": "code",
   "execution_count": 27,
   "metadata": {},
   "outputs": [
    {
     "name": "stdout",
     "output_type": "stream",
     "text": [
      "[[ 10   7 300  25  40]\n",
      " [ 15  10 250  30  50]\n",
      " [  5  12 280  20  35]\n",
      " [  8   6 310  15  38]\n",
      " [ 12   9 270  28  45]]\n",
      "[[0.03290221 0.02720114 1.05937646 0.079913   0.14515829]\n",
      " [0.04935332 0.03885877 0.88281371 0.0958956  0.18144787]\n",
      " [0.01645111 0.04663052 0.98875136 0.0639304  0.12701351]\n",
      " [0.02632177 0.02331526 1.094689   0.0479478  0.13790038]\n",
      " [0.03948266 0.03497289 0.95343881 0.08950256 0.16330308]]\n"
     ]
    }
   ],
   "source": [
    "jugadores = np.array([\n",
    "    [10,7,300,25,40],\n",
    "    [15,10,250,30,50],\n",
    "    [5,12,280,20,35],\n",
    "    [8,6,310,15,38],\n",
    "    [12,9,270,28,45]\n",
    "])\n",
    "print(jugadores)\n",
    "jugadores_normalizados = jugadores / np.linalg.norm(jugadores,axis=1)\n",
    "print(jugadores_normalizados)"
   ]
  },
  {
   "cell_type": "code",
   "execution_count": null,
   "metadata": {},
   "outputs": [],
   "source": []
  },
  {
   "cell_type": "code",
   "execution_count": 1,
   "metadata": {},
   "outputs": [
    {
     "name": "stderr",
     "output_type": "stream",
     "text": [
      "[NbConvertApp] Converting notebook jupyter.ipynb to pdf\n",
      "[NbConvertApp] Writing 41314 bytes to notebook.tex\n",
      "[NbConvertApp] Building PDF\n",
      "[NbConvertApp] Running xelatex 3 times: ['xelatex', 'notebook.tex', '-quiet']\n",
      "[NbConvertApp] CRITICAL | x failed: xelatex notebook.tex -quiet\n",
      "b''\n",
      "Traceback (most recent call last):\n",
      "  File \"C:\\Users\\ia\\AppData\\Local\\Programs\\Python\\Python310\\lib\\runpy.py\", line 196, in _run_module_as_main\n",
      "    return _run_code(code, main_globals, None,\n",
      "  File \"C:\\Users\\ia\\AppData\\Local\\Programs\\Python\\Python310\\lib\\runpy.py\", line 86, in _run_code\n",
      "    exec(code, run_globals)\n",
      "  File \"g:\\numpy\\Scripts\\jupyter-nbconvert.EXE\\__main__.py\", line 7, in <module>\n",
      "    sys.exit(main())\n",
      "  File \"G:\\numpy\\lib\\site-packages\\jupyter_core\\application.py\", line 283, in launch_instance\n",
      "    super().launch_instance(argv=argv, **kwargs)\n",
      "  File \"G:\\numpy\\lib\\site-packages\\traitlets\\config\\application.py\", line 1075, in launch_instance\n",
      "    app.start()\n",
      "  File \"G:\\numpy\\lib\\site-packages\\nbconvert\\nbconvertapp.py\", line 420, in start\n",
      "    self.convert_notebooks()\n",
      "  File \"G:\\numpy\\lib\\site-packages\\nbconvert\\nbconvertapp.py\", line 597, in convert_notebooks\n",
      "    self.convert_single_notebook(notebook_filename)\n",
      "  File \"G:\\numpy\\lib\\site-packages\\nbconvert\\nbconvertapp.py\", line 563, in convert_single_notebook\n",
      "    output, resources = self.export_single_notebook(\n",
      "  File \"G:\\numpy\\lib\\site-packages\\nbconvert\\nbconvertapp.py\", line 487, in export_single_notebook\n",
      "    output, resources = self.exporter.from_filename(\n",
      "  File \"G:\\numpy\\lib\\site-packages\\nbconvert\\exporters\\templateexporter.py\", line 386, in from_filename\n",
      "    return super().from_filename(filename, resources, **kw)  # type:ignore[return-value]\n",
      "  File \"G:\\numpy\\lib\\site-packages\\nbconvert\\exporters\\exporter.py\", line 201, in from_filename\n",
      "    return self.from_file(f, resources=resources, **kw)\n",
      "  File \"G:\\numpy\\lib\\site-packages\\nbconvert\\exporters\\templateexporter.py\", line 392, in from_file\n",
      "    return super().from_file(file_stream, resources, **kw)  # type:ignore[return-value]\n",
      "  File \"G:\\numpy\\lib\\site-packages\\nbconvert\\exporters\\exporter.py\", line 220, in from_file\n",
      "    return self.from_notebook_node(\n",
      "  File \"G:\\numpy\\lib\\site-packages\\nbconvert\\exporters\\pdf.py\", line 197, in from_notebook_node\n",
      "    self.run_latex(tex_file)\n",
      "  File \"G:\\numpy\\lib\\site-packages\\nbconvert\\exporters\\pdf.py\", line 166, in run_latex\n",
      "    return self.run_command(\n",
      "  File \"G:\\numpy\\lib\\site-packages\\nbconvert\\exporters\\pdf.py\", line 156, in run_command\n",
      "    raise raise_on_failure(msg)\n",
      "nbconvert.exporters.pdf.LatexFailed: PDF creating failed, captured latex output:\n",
      "Failed to run \"xelatex notebook.tex -quiet\" command:\n",
      "\n"
     ]
    }
   ],
   "source": [
    "!jupyter nbconvert --to pdf *.ipynb"
   ]
  },
  {
   "cell_type": "code",
   "execution_count": 26,
   "metadata": {},
   "outputs": [
    {
     "name": "stdout",
     "output_type": "stream",
     "text": [
      "version numpy 2.2.1\n"
     ]
    }
   ],
   "source": [
    "print(\"version numpy\",np.__version__)\n"
   ]
  }
 ],
 "metadata": {
  "kernelspec": {
   "display_name": "numpy",
   "language": "python",
   "name": "python3"
  },
  "language_info": {
   "codemirror_mode": {
    "name": "ipython",
    "version": 3
   },
   "file_extension": ".py",
   "mimetype": "text/x-python",
   "name": "python",
   "nbconvert_exporter": "python",
   "pygments_lexer": "ipython3",
   "version": "3.10.0rc2"
  }
 },
 "nbformat": 4,
 "nbformat_minor": 2
}
