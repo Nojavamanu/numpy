{
 "cells": [
  {
   "cell_type": "code",
   "execution_count": 2,
   "metadata": {},
   "outputs": [],
   "source": [
    "import numpy as np"
   ]
  },
  {
   "cell_type": "markdown",
   "metadata": {},
   "source": [
    "para hacer reshape simplemente tengo que multiplicar filas y vcolumnas y encontrar el numero que divide exactamente creo que esto se llama divisor "
   ]
  },
  {
   "cell_type": "code",
   "execution_count": 2,
   "metadata": {},
   "outputs": [
    {
     "name": "stdout",
     "output_type": "stream",
     "text": [
      "version numpy 2.2.1\n",
      "[1 2 3] \n",
      "\n",
      "(3,) 1 dimension\n",
      "[[12 15 16]\n",
      " [11 14 13]] \n",
      "\n",
      "(2, 3) 2 dimensiones\n",
      "[[[3 5 7]\n",
      "  [2 3 4]\n",
      "  [8 9 1]]] \n",
      "\n",
      "(1, 3, 3) 3 dimensiones\n",
      "[[0. 0. 0. ... 0. 0. 0.]\n",
      " [0. 0. 0. ... 0. 0. 0.]\n",
      " [0. 0. 0. ... 0. 0. 0.]\n",
      " ...\n",
      " [0. 0. 0. ... 0. 0. 0.]\n",
      " [0. 0. 0. ... 0. 0. 0.]\n",
      " [0. 0. 0. ... 0. 0. 0.]] vacio\n",
      "(30, 70) vacio ma g\n",
      "[ 0  1  2  3  4  5  6  7  8  9 10]\n",
      "[ 0  4  8 12 16 20]\n",
      "[[0.72506204 0.74973821]\n",
      " [0.78027369 0.12167868]] randon\n",
      "enteritos [0 1]\n",
      "lindo [0.   0.25 0.5  0.75 1.  ]\n",
      "lindo2 [ 0.   2.5  5.   7.5 10. ]\n"
     ]
    }
   ],
   "source": [
    "\n",
    "print(\"version numpy\",np.__version__)\n",
    "array = np.array([1,2,3])\n",
    "print(array,\"\\n\")\n",
    "print(array.shape,\"1 dimension\")\n",
    "array2d = np.array([[12,15,16],[11,14,13]])\n",
    "print(array2d,\"\\n\")\n",
    "print(array2d.shape,\"2 dimensiones\")\n",
    "array3d = np.array([[[3,5,7],[2,3,4],[8,9,1]]])\n",
    "print(array3d,\"\\n\")\n",
    "print(array3d.shape,\"3 dimensiones\")\n",
    "array_vacio = np.zeros((30,70))\n",
    "print(array_vacio,\"vacio\")\n",
    "print(array_vacio.shape,\"vacio ma g\")\n",
    "array_rangos = np.arange(11)\n",
    "print(array_rangos)\n",
    "array_rango_prueba = np.arange(0,21,4)\n",
    "print(array_rango_prueba)\n",
    "array_random = np.random.random((2,2))\n",
    "print(array_random,\"randon\")\n",
    "array_aleatorio_int = np.random.randint((2,2))\n",
    "print(\"enteritos\",array_aleatorio_int)\n",
    "linspace = np.linspace(0,1,5)\n",
    "print(\"lindo\",linspace)\n",
    "linspace2 = np.linspace(0,10,5)\n",
    "print(\"lindo2\",linspace2)\n",
    "\n",
    "\n"
   ]
  },
  {
   "cell_type": "code",
   "execution_count": 17,
   "metadata": {},
   "outputs": [
    {
     "name": "stdout",
     "output_type": "stream",
     "text": [
      "0\n",
      "10\n",
      "35\n",
      "[ 20  50 111 351 501]\n",
      "array decimal [0.  0.2 0.4 0.6 0.8 1.  1.2 1.4 1.6 1.8 2.  2.2 2.4 2.6 2.8]\n",
      "array_inverso [50 49 48 47 46 45 44 43 42 41 40 39 38 37 36 35 34 33 32 31 30 29 28 27\n",
      " 26]\n",
      "slice [8 7 6 5 4 3 2 1]\n",
      "slice_salto [6 4 2]\n",
      "slice_salto [9 6 3]\n",
      "slice_salto [ 5 10]\n",
      "[10  9  8  7  6  5  4  3  2  1]\n",
      "dime to (array([5]),)\n",
      "dime to kako (array([8]),)\n",
      "slice_salto [2 3 4 5]\n"
     ]
    }
   ],
   "source": [
    "arr1d = np.array([0,7,10])\n",
    "print(arr1d[0])\n",
    "print(arr1d[-1])\n",
    "arr2d = np.array([\n",
    "    [10,15,20],\n",
    "    [25,30,35],\n",
    "    [40,45,50]\n",
    "\n",
    "])\n",
    "print(arr2d[1][2])\n",
    "arr_2d1 = np.array([\n",
    "    [10,15,20],\n",
    "    [40,45,50],\n",
    "    [101,106,111],\n",
    "    [251,301,351],\n",
    "    [401,451,501]\n",
    "\n",
    "])\n",
    "print(arr_2d1[:,2])\n",
    "print(\"array decimal\",np.arange(0,3,0.2))\n",
    "print(\"array_inverso\",np.arange(50,25,-1))\n",
    "arr = np.arange(10,0,-1)\n",
    "print(\"slice\",arr[2:10])\n",
    "print(\"slice_salto\",arr[4:9:2])\n",
    "print(\"slice_salto\",arr[1:9:3])\n",
    "print(\"slice_salto\",arr[0:6:][::-5])\n",
    "print(arr)\n",
    "#2,3,4,5\n",
    "indice_cinco = np.where(arr==5)\n",
    "print(\"dime to\",indice_cinco)\n",
    "indice_dos = np.where(arr==2)\n",
    "print(\"dime to kako\",indice_dos)\n",
    "\n",
    "print(\"slice_salto\",arr[8:4:-1])\n",
    "\n",
    "\n"
   ]
  },
  {
   "cell_type": "code",
   "execution_count": 15,
   "metadata": {},
   "outputs": [
    {
     "name": "stdout",
     "output_type": "stream",
     "text": [
      "slice 2 dimensiones [[2 3]\n",
      " [5 6]\n",
      " [8 9]]\n",
      "a ver [16 17 18]\n",
      "dimensiones 23\n",
      "dimesiones3d [ 4 13 22]\n",
      "dimesiones3d [ 4 13 22]\n"
     ]
    }
   ],
   "source": [
    "array2de = np.array([[1,2,3],[4,5,6],[7,8,9]])\n",
    "print(\"slice 2 dimensiones\", array2de[:, 1:])\n",
    "array_3d = np.array([\n",
    "    [[1, 2, 3], [4, 5, 6], [7, 8, 9]],  # Primer bloque (dimensión 0)  es como la estructura de una estanteria o como un calendario mes\n",
    "    [[10, 11, 12], [13, 14, 15], [16, 17, 18]],  # Segundo bloque (dimensión 1) la balda de la estanteria  semana \n",
    "    [[19, 20, 21], [22, 23, 24], [25, 26, 27]]  # Tercer bloque (dimensión 2) el objeto en concreto de la estanteria dia \n",
    "])\n",
    "print(\"a ver\",array_3d[1,2,:] )\n",
    "print(\"dimensiones\",array_3d[2,1,1] )\n",
    "#con dos puntos solo es como si hiciera un bucle y recorro todo el indice \n",
    "\n",
    "print(\"dimesiones3d\",array_3d[:,1,0])\n",
    "# en este caso hay k darle un rango mas el normal seria de 0,2 pero claro en el 2 se para no esta incluido asique recurro al 3 \n",
    "\n",
    "print(\"dimesiones3d\",array_3d[0:3,1,0])\n",
    "\n",
    "\n"
   ]
  }
 ],
 "metadata": {
  "kernelspec": {
   "display_name": "numpy",
   "language": "python",
   "name": "python3"
  },
  "language_info": {
   "codemirror_mode": {
    "name": "ipython",
    "version": 3
   },
   "file_extension": ".py",
   "mimetype": "text/x-python",
   "name": "python",
   "nbconvert_exporter": "python",
   "pygments_lexer": "ipython3",
   "version": "3.10.0"
  }
 },
 "nbformat": 4,
 "nbformat_minor": 2
}
